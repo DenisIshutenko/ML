{
 "cells": [
  {
   "cell_type": "code",
   "execution_count": 1,
   "metadata": {},
   "outputs": [],
   "source": [
    "import numpy as np\n",
    "from matplotlib import pyplot as plt\n",
    "import seaborn as sns\n",
    " \n",
    "%matplotlib inline\n",
    "\n",
    "np.random.seed(seed=42)"
   ]
  },
  {
   "cell_type": "code",
   "execution_count": 89,
   "metadata": {},
   "outputs": [
    {
     "data": {
      "text/plain": [
       "<matplotlib.collections.PathCollection at 0x7f4a1a26ff60>"
      ]
     },
     "execution_count": 89,
     "metadata": {},
     "output_type": "execute_result"
    },
    {
     "data": {
      "image/png": "[encoded data removed]",
      "text/plain": [
       "<Figure size 432x288 with 1 Axes>"
      ]
     },
     "metadata": {
      "needs_background": "light"
     },
     "output_type": "display_data"
    }
   ],
   "source": [
    "p1 = np.random.normal(loc=0, scale=1, size=(50,2))\n",
    "p2 = np.random.normal(loc=5, scale=2, size=(50,2))\n",
    "p3 = np.random.normal(loc=10, scale=0.8, size=(50,2)) - np.array([5, -5])\n",
    "\n",
    "\n",
    "X = np.concatenate((p1, p2, p3))\n",
    "y = np.array([1]*50 + [2]*50 + [3]*50)\n",
    "\n",
    "point = [4., 5.]\n",
    "\n",
    "plt.scatter(p1[:,0], p1[:, 1], color='blue')\n",
    "plt.scatter(p2[:,0], p2[:, 1], color='orange')\n",
    "plt.scatter(p3[:,0], p3[:, 1], color='green')\n",
    "plt.scatter(point[0], point[1], s = 100, color='red')"
   ]
  },
  {
   "cell_type": "code",
   "execution_count": 3,
   "metadata": {},
   "outputs": [
    {
     "name": "stdout",
     "output_type": "stream",
     "text": [
      "ошибок нет\n"
     ]
    }
   ],
   "source": [
    "# евклидова метрика, возвращает массив из 1 числа - расстояния (можно исправить на число, убрав \"axis\" из np.sum)\n",
    "def euclidian_metric(a, b):\n",
    "    square = np.square(a-b)\n",
    "    sum_squ = np.sum(square,axis=1)\n",
    "    return np.sqrt(sum_squ)\n",
    "\n",
    "a = np.zeros((1,4))\n",
    "b = np.ones((1,4))\n",
    "\n",
    "assert euclidian_metric(a,b)[0] == 2\n",
    "print('ошибок нет')"
   ]
  },
  {
   "cell_type": "code",
   "execution_count": 4,
   "metadata": {},
   "outputs": [],
   "source": [
    "# функция, находящая ближайших k соседей и расстояния до них (k-количество соседей, y-точки, distances-расстояния до точек y)\n",
    "def find_neighbours(k, y, distances):\n",
    "    sorted_dist = np.argsort(distances)\n",
    "    neighbours = y[sorted_dist[:k]]\n",
    "    neighbours_distances = distances[sorted_dist[:k]]\n",
    "    return neighbours, neighbours_distances"
   ]
  },
  {
   "cell_type": "code",
   "execution_count": 5,
   "metadata": {},
   "outputs": [],
   "source": [
    "# функция, выделяющая преобладающий класс среди соседей (на вход подаются классы соседей)\n",
    "def get_closest_classes(neighbours):\n",
    "    values, counts = np.unique(neighbours, return_counts=True)\n",
    "    best_classes=values[np.where(counts==counts.max())[0]]\n",
    "    return best_classes"
   ]
  },
  {
   "cell_type": "code",
   "execution_count": 57,
   "metadata": {},
   "outputs": [],
   "source": [
    "# функция, определяющая лучший класс по минимальному среднему расстоянию до объектов \n",
    "def choose_best_class(best_classes, neighbours, neighbouring_distances):\n",
    "    min_mean_dist = np.inf\n",
    "    best_class = best_classes[0]\n",
    "    neighbours_new=neighbours[np.argsort(neighbours)]\n",
    "    neighbouring_distances_new=neighbouring_distances[np.argsort(neighbours)]\n",
    "    counter=0\n",
    "    counter_value=0\n",
    "    value_i=neighbours_new[0]\n",
    "    for i in range(neighbours.shape[0]):\n",
    "        if neighbours_new[i] in best_classes:\n",
    "            if neighbours_new[i]==value_i:\n",
    "                counter+=1\n",
    "                counter_value+=neighbouring_distances_new[i]\n",
    "            else:\n",
    "                if counter:\n",
    "                    if (counter_value/counter)<min_mean_dist:\n",
    "                        min_mean_dist=counter_value/counter\n",
    "                        best_class=value_i\n",
    "                value_i=neighbours_new[i]\n",
    "                counter=1\n",
    "                counter_value=neighbouring_distances_new[i]\n",
    "    return best_class"
   ]
  },
  {
   "cell_type": "code",
   "execution_count": 74,
   "metadata": {},
   "outputs": [],
   "source": [
    "# функция, считающая расстояния каждой точки элемента выборки x_pred до всех точек \n",
    "# в исходном датасете X, и на основе расстояний вычисляющая принадлежность к классу\n",
    "\n",
    "def nearest_neighbours_classify(x, y, k, x_pred):\n",
    "    res = np.zeros(x_pred.shape[0], dtype=y.dtype)\n",
    "\n",
    "    for g in range(x_pred.shape[0]):\n",
    "        distances = euclidian_metric(x, x_pred[g])  # считаем расстояния до классов\n",
    "\n",
    "        neighbours, neighbouring_distances = find_neighbours(k, y, distances)  # находим ровно k соседей этой точки\n",
    "            \n",
    "        best_classes = get_closest_classes(neighbours)  # обнаруживаем классы, которые имеются среди соседей\n",
    "        \n",
    "        res[g] = choose_best_class(best_classes, neighbours, neighbouring_distances)  # выбираем наиболее релевантный класс по среднему расстоянию до него среди соседей\n",
    "    return res"
   ]
  },
  {
   "cell_type": "code",
   "execution_count": 79,
   "metadata": {},
   "outputs": [
    {
     "name": "stdout",
     "output_type": "stream",
     "text": [
      "1.0\n"
     ]
    }
   ],
   "source": [
    "from sklearn.model_selection import train_test_split\n",
    "from sklearn.metrics import accuracy_score\n",
    "\n",
    "# train_test_split разбивает X и y на выборки при этом размер тестовой выборки устанавливается через test_size  \n",
    "X_train, X_test, y_train, y_test = train_test_split(X, y, random_state=42, test_size=0.2)\n",
    "\n",
    "# выберем число соседей =  5\n",
    "# для данных из тестовой выборки предскажем, к какому классу относятся точки\n",
    "y_pred = nearest_neighbours_classify(X_train, y_train, 5, X_test)\n",
    "\n",
    "#а теперь сравним предсказанное значение с реальным и выведем значение, показывающее процент верно классифицированных\n",
    "#(значение будет от 0 до 1 - от 0 до 100 процентов соответственно)\n",
    "print(accuracy_score(y_test, y_pred))"
   ]
  },
  {
   "cell_type": "code",
   "execution_count": 90,
   "metadata": {},
   "outputs": [
    {
     "data": {
      "text/plain": [
       "2"
      ]
     },
     "execution_count": 90,
     "metadata": {},
     "output_type": "execute_result"
    }
   ],
   "source": [
    "point = np.array([4., 5.5]) # изначально точка добавлялась на график как список, но мы работает с numpy массивами\n",
    "nearest_neighbours_classify(X_train, y_train, 5, point)[0]"
   ]
  },
  {
   "cell_type": "code",
   "execution_count": 91,
   "metadata": {},
   "outputs": [
    {
     "name": "stdout",
     "output_type": "stream",
     "text": [
      "Экземпляров: 1797\n",
      "Размер изображения: 8.0x8.0\n"
     ]
    }
   ],
   "source": [
    "from sklearn import datasets\n",
    "\n",
    "# загружаем датасет с цифрами\n",
    "# В Х загрузим картинки с цифрами, по Х предсказываем класс\n",
    "# В y хранится значение целевого признака, что мы должны предсказать в итоге. \n",
    "X, y = datasets.load_digits(return_X_y=True)\n",
    "\n",
    "print(\"Экземпляров: {}\\nРазмер изображения: {}x{}\".format(X.shape[0], np.sqrt(X.shape[1]), np.sqrt(X.shape[1])))"
   ]
  },
  {
   "cell_type": "code",
   "execution_count": 92,
   "metadata": {},
   "outputs": [
    {
     "data": {
      "image/png": "[encoded data removed]",
      "text/plain": [
       "<Figure size 1152x432 with 10 Axes>"
      ]
     },
     "metadata": {
      "needs_background": "light"
     },
     "output_type": "display_data"
    }
   ],
   "source": [
    "# выведем пример содержимого датасета с помощью кода ниже(10 цифр)\n",
    "# Для начала зафиксируем размер итоговой фигуры(на нее будем добавлять изображения с цифрами)\n",
    "plt.figure(figsize=(16, 6))\n",
    "width = int(np.sqrt(X.shape[1]))\n",
    "# Затем в цикле будем добавлять изображения на фигуру, используя функцию subplot, \n",
    "# она нужна для добавления независимых графиков\\изображений на одной ячейке\n",
    "# первое значение в subplot обозначает число строк, второе - число столбцов,\n",
    "# то есть так можно добавить на график 5 в каждую строку, всего 2 строки\n",
    "# Третье значение отвечает за текущую позицию(нумерация с 1), например, если позиция 6, то картинка добавится в первый столбец второго ряда(для текущих значений) \n",
    "for i in range(10):\n",
    "    plt.subplot(2, 5, i + 1)\n",
    "    plt.imshow(X[i,:].reshape([width,width]), cmap='gray')"
   ]
  },
  {
   "cell_type": "code",
   "execution_count": 93,
   "metadata": {},
   "outputs": [
    {
     "name": "stdout",
     "output_type": "stream",
     "text": [
      "0.9861111111111112\n"
     ]
    }
   ],
   "source": [
    "X_train, X_test, y_train, y_test = train_test_split(X, y, random_state=42, test_size=0.2)\n",
    "\n",
    "y_pred = nearest_neighbours_classify(X_train, y_train, 5, X_test)\n",
    "\n",
    "print(accuracy_score(y_test, y_pred))"
   ]
  }
 ],
 "metadata": {
  "kernelspec": {
   "display_name": "Python 3",
   "language": "python",
   "name": "python3"
  },
  "language_info": {
   "codemirror_mode": {
    "name": "ipython",
    "version": 3
   },
   "file_extension": ".py",
   "mimetype": "text/x-python",
   "name": "python",
   "nbconvert_exporter": "python",
   "pygments_lexer": "ipython3",
   "version": "3.7.3"
  }
 },
 "nbformat": 4,
 "nbformat_minor": 4
}
